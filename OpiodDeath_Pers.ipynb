{
 "cells": [
  {
   "cell_type": "code",
   "execution_count": 1,
   "metadata": {},
   "outputs": [],
   "source": [
    "# Dependencies\n",
    "import os \n",
    "import pandas as pd \n",
    "import matplotlib.pyplot as plt\n",
    "import numpy as np\n",
    "from scipy.stats import linregress \n",
    "\n",
    "#Reading in Files\n",
    "cdc_df = pd.read_csv(\"Resource/VSRR_Provisional_Drug_Overdose_Death_Counts_2015_2021.csv\")\n",
    "care_df = pd.read_csv(\"Resource/Medicare_Opioid_Prescribing_Data_2013_2019.csv\", low_memory = False)\n",
    "caid_df = pd.read_csv(\"Resource/Medicaid_Opioid_Prescribing_data_2013_2019.csv\", low_memory = False)"
   ]
  }
 ],
 "metadata": {
  "kernelspec": {
   "display_name": "Python [conda env:pythondata] *",
   "language": "python",
   "name": "conda-env-pythondata-py"
  },
  "language_info": {
   "codemirror_mode": {
    "name": "ipython",
    "version": 3
   },
   "file_extension": ".py",
   "mimetype": "text/x-python",
   "name": "python",
   "nbconvert_exporter": "python",
   "pygments_lexer": "ipython3",
   "version": "3.6.10"
  }
 },
 "nbformat": 4,
 "nbformat_minor": 4
}
